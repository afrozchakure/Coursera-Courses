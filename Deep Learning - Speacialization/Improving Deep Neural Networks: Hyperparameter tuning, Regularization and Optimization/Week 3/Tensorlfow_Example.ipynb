{
  "nbformat": 4,
  "nbformat_minor": 0,
  "metadata": {
    "colab": {
      "name": "Tensorlfow_Example.ipynb",
      "provenance": [],
      "collapsed_sections": []
    },
    "kernelspec": {
      "name": "python3",
      "display_name": "Python 3"
    }
  },
  "cells": [
    {
      "cell_type": "code",
      "metadata": {
        "id": "bNokpP5mkwRm",
        "colab_type": "code",
        "colab": {}
      },
      "source": [
        "%tensorflow_version 1.x"
      ],
      "execution_count": 3,
      "outputs": []
    },
    {
      "cell_type": "code",
      "metadata": {
        "id": "4pLuZUxOk7Pv",
        "colab_type": "code",
        "colab": {
          "base_uri": "https://localhost:8080/",
          "height": 34
        },
        "outputId": "5b475eac-bf96-48dd-a862-25d145eaca68"
      },
      "source": [
        "import tensorflow as tf\n",
        "print(tensorflow.__version__)"
      ],
      "execution_count": 6,
      "outputs": [
        {
          "output_type": "stream",
          "text": [
            "1.15.2\n"
          ],
          "name": "stdout"
        }
      ]
    },
    {
      "cell_type": "code",
      "metadata": {
        "id": "_hEyLFcTk8YO",
        "colab_type": "code",
        "colab": {}
      },
      "source": [
        "import numpy as np"
      ],
      "execution_count": 7,
      "outputs": []
    },
    {
      "cell_type": "code",
      "metadata": {
        "id": "x7_BOeX4lYxD",
        "colab_type": "code",
        "colab": {
          "base_uri": "https://localhost:8080/",
          "height": 34
        },
        "outputId": "c241f002-29b8-4fe9-c484-879ab29efc99"
      },
      "source": [
        "coefficients = np.array([[1.], [-20.], [100]])\n",
        "\n",
        "w = tf.Variable(0, dtype=tf.float32)\n",
        "x = tf.placeholder(tf.float32, [3, 1])  # Placeholder is a variable whose value you assign later\n",
        "# cost = tf.add(tf.add(w**2, tf.multiply(-10., w)), 25)\n",
        "# cost = w**2 - 10*w + 25\n",
        "cost = x[0][0]* w**2 + x[1][0]* w + x[2][0]  # This code builds a computation graph\n",
        "train = tf.train.GradientDescentOptimizer(0.01).minimize(cost)  # We defined the learning algorithm\n",
        "\n",
        "init = tf.global_variables_initializer()  # Initializing global variables\n",
        "session = tf.Session()\n",
        "session.run(init) \n",
        "session.run(w)  # To evaluate the variable\n",
        "print(session.run(w)) "
      ],
      "execution_count": 28,
      "outputs": [
        {
          "output_type": "stream",
          "text": [
            "0.0\n"
          ],
          "name": "stdout"
        }
      ]
    },
    {
      "cell_type": "code",
      "metadata": {
        "id": "wo1SYoUsl9N8",
        "colab_type": "code",
        "colab": {
          "base_uri": "https://localhost:8080/",
          "height": 34
        },
        "outputId": "88001b3d-becf-438e-c68b-90ed42c5b03f"
      },
      "source": [
        "session.run(train, feed_dict={x:coefficients})  # Run 1 step of gradient descent\n",
        "print(session.run(w))"
      ],
      "execution_count": 29,
      "outputs": [
        {
          "output_type": "stream",
          "text": [
            "0.19999999\n"
          ],
          "name": "stdout"
        }
      ]
    },
    {
      "cell_type": "code",
      "metadata": {
        "id": "OUymyzHHmrc6",
        "colab_type": "code",
        "colab": {
          "base_uri": "https://localhost:8080/",
          "height": 34
        },
        "outputId": "998ad9ba-a789-4209-b0aa-10aa1ca2fab1"
      },
      "source": [
        "for i in range(1000):  # Run a 1000 iterations of gradient descent\n",
        "    session.run(train, feed_dict={x: coefficients})\n",
        "print(session.run(w))"
      ],
      "execution_count": 30,
      "outputs": [
        {
          "output_type": "stream",
          "text": [
            "9.999976\n"
          ],
          "name": "stdout"
        }
      ]
    }
  ]
}