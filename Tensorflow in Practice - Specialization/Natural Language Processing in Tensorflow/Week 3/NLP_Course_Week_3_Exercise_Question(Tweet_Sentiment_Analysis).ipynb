{
  "nbformat": 4,
  "nbformat_minor": 0,
  "metadata": {
    "accelerator": "GPU",
    "colab": {
      "name": "NLP Course - Week 3 Exercise Question.ipynb",
      "provenance": [],
      "toc_visible": true
    },
    "kernelspec": {
      "display_name": "Python 3",
      "name": "python3"
    }
  },
  "cells": [
    {
      "cell_type": "code",
      "metadata": {
        "id": "zX4Kg8DUTKWO",
        "colab_type": "code",
        "colab": {}
      },
      "source": [
        "#@title Licensed under the Apache License, Version 2.0 (the \"License\");\n",
        "# you may not use this file except in compliance with the License.\n",
        "# You may obtain a copy of the License at\n",
        "#\n",
        "# https://www.apache.org/licenses/LICENSE-2.0\n",
        "#\n",
        "# Unless required by applicable law or agreed to in writing, software\n",
        "# distributed under the License is distributed on an \"AS IS\" BASIS,\n",
        "# WITHOUT WARRANTIES OR CONDITIONS OF ANY KIND, either express or implied.\n",
        "# See the License for the specific language governing permissions and\n",
        "# limitations under the License."
      ],
      "execution_count": null,
      "outputs": []
    },
    {
      "cell_type": "code",
      "metadata": {
        "colab_type": "code",
        "id": "hmA6EzkQJ5jt",
        "colab": {}
      },
      "source": [
        "import json\n",
        "import tensorflow as tf\n",
        "import csv\n",
        "import random\n",
        "import numpy as np\n",
        "\n",
        "from tensorflow.keras.preprocessing.text import Tokenizer\n",
        "from tensorflow.keras.preprocessing.sequence import pad_sequences\n",
        "from tensorflow.keras.utils import to_categorical\n",
        "from tensorflow.keras import regularizers\n",
        "\n",
        "\n",
        "embedding_dim = 100\n",
        "max_length = 16\n",
        "trunc_type='post'\n",
        "padding_type='post'\n",
        "oov_tok = \"<OOV>\"\n",
        "training_size= 160000 #Your dataset size here. Experiment using smaller values (i.e. 16000), but don't forget to train on at least 160000 to see the best effects\n",
        "test_portion=.1\n",
        "\n",
        "corpus = []\n"
      ],
      "execution_count": 1,
      "outputs": []
    },
    {
      "cell_type": "code",
      "metadata": {
        "colab_type": "code",
        "id": "bM0l_dORKqE0",
        "colab": {
          "base_uri": "https://localhost:8080/",
          "height": 208
        },
        "outputId": "0d72db4d-2194-4364-8be1-80f855c43410"
      },
      "source": [
        "# Note that I cleaned the Stanford dataset to remove LATIN1 encoding to make it easier for Python CSV reader\n",
        "# You can do that yourself with:\n",
        "# iconv -f LATIN1 -t UTF8 training.1600000.processed.noemoticon.csv -o training_cleaned.csv\n",
        "# I then hosted it on my site to make it easier to use in this notebook\n",
        "\n",
        "!wget --no-check-certificate \\\n",
        "    https://storage.googleapis.com/laurencemoroney-blog.appspot.com/training_cleaned.csv \\\n",
        "    -O /tmp/training_cleaned.csv\n",
        "\n",
        "num_sentences = 0\n",
        "\n",
        "with open(\"/tmp/training_cleaned.csv\") as csvfile:\n",
        "    reader = csv.reader(csvfile, delimiter=',')\n",
        "    for row in reader:\n",
        "      # Your Code here. Create list items where the first item is the text, found in row[5], and the second is the label. Note that the label is a '0' or a '4' in the text. When it's the former, make\n",
        "      # your label to be 0, otherwise 1. Keep a count of the number of sentences in num_sentences\n",
        "        list_item=[]\n",
        "        # YOUR CODE HERE\n",
        "        list_item.append(row[5])\n",
        "        this_label = row[0]\n",
        "        if this_label == '0':\n",
        "            list_item.append(0)\n",
        "        else:\n",
        "            list_item.append(1)\n",
        "\n",
        "        num_sentences = num_sentences + 1\n",
        "        corpus.append(list_item)\n"
      ],
      "execution_count": 2,
      "outputs": [
        {
          "output_type": "stream",
          "text": [
            "--2020-07-26 18:26:56--  https://storage.googleapis.com/laurencemoroney-blog.appspot.com/training_cleaned.csv\n",
            "Resolving storage.googleapis.com (storage.googleapis.com)... 108.177.97.128, 108.177.125.128, 74.125.204.128, ...\n",
            "Connecting to storage.googleapis.com (storage.googleapis.com)|108.177.97.128|:443... connected.\n",
            "HTTP request sent, awaiting response... 200 OK\n",
            "Length: 238942690 (228M) [application/octet-stream]\n",
            "Saving to: ‘/tmp/training_cleaned.csv’\n",
            "\n",
            "/tmp/training_clean 100%[===================>] 227.87M  56.6MB/s    in 4.0s    \n",
            "\n",
            "2020-07-26 18:27:00 (56.6 MB/s) - ‘/tmp/training_cleaned.csv’ saved [238942690/238942690]\n",
            "\n"
          ],
          "name": "stdout"
        }
      ]
    },
    {
      "cell_type": "code",
      "metadata": {
        "colab_type": "code",
        "id": "3kxblBUjEUX-",
        "colab": {
          "base_uri": "https://localhost:8080/",
          "height": 69
        },
        "outputId": "3aab90d3-0616-49af-de3e-d3f6f816025e"
      },
      "source": [
        "print(num_sentences)\n",
        "print(len(corpus))\n",
        "print(corpus[1])\n",
        "\n",
        "# Expected Output:\n",
        "# 1600000\n",
        "# 1600000\n",
        "# [\"is upset that he can't update his Facebook by texting it... and might cry as a result  School today also. Blah!\", 0]"
      ],
      "execution_count": 3,
      "outputs": [
        {
          "output_type": "stream",
          "text": [
            "1600000\n",
            "1600000\n",
            "[\"is upset that he can't update his Facebook by texting it... and might cry as a result  School today also. Blah!\", 0]\n"
          ],
          "name": "stdout"
        }
      ]
    },
    {
      "cell_type": "code",
      "metadata": {
        "colab_type": "code",
        "id": "ohOGz24lsNAD",
        "colab": {}
      },
      "source": [
        "sentences=[]\n",
        "labels=[]\n",
        "random.shuffle(corpus)\n",
        "for x in range(training_size):\n",
        "    sentences.append(corpus[x][0])\n",
        "    labels.append(corpus[x][1])\n",
        "\n",
        "\n",
        "tokenizer = Tokenizer()\n",
        "tokenizer.fit_on_texts(sentences)\n",
        "\n",
        "word_index = tokenizer.word_index\n",
        "vocab_size=len(word_index)\n",
        "\n",
        "sequences = tokenizer.texts_to_sequences(sentences)\n",
        "padded = pad_sequences(sequences, maxlen = max_length,padding=padding_type , truncating= trunc_type )\n",
        "\n",
        "split = int(test_portion * training_size)\n",
        "\n",
        "test_sequences = np.array(padded[0:split])\n",
        "training_sequences = np.array(padded[split:training_size])\n",
        "test_labels = np.array(labels[0:split])\n",
        "training_labels = np.array(labels[split:training_size])"
      ],
      "execution_count": 4,
      "outputs": []
    },
    {
      "cell_type": "code",
      "metadata": {
        "colab_type": "code",
        "id": "gIrtRem1En3N",
        "colab": {
          "base_uri": "https://localhost:8080/",
          "height": 52
        },
        "outputId": "21039c6e-e682-4c59-c12f-9eea3efb116a"
      },
      "source": [
        "print(vocab_size)\n",
        "print(word_index['i'])\n",
        "# Expected Output\n",
        "# 138858\n",
        "# 1"
      ],
      "execution_count": 5,
      "outputs": [
        {
          "output_type": "stream",
          "text": [
            "139067\n",
            "1\n"
          ],
          "name": "stdout"
        }
      ]
    },
    {
      "cell_type": "code",
      "metadata": {
        "colab_type": "code",
        "id": "C1zdgJkusRh0",
        "colab": {
          "base_uri": "https://localhost:8080/",
          "height": 208
        },
        "outputId": "2856dd12-4bd8-470e-b205-8f83e51d9db2"
      },
      "source": [
        "# Note this is the 100 dimension version of GloVe from Stanford\n",
        "# I unzipped and hosted it on my site to make this notebook easier\n",
        "!wget --no-check-certificate \\\n",
        "    https://storage.googleapis.com/laurencemoroney-blog.appspot.com/glove.6B.100d.txt \\\n",
        "    -O /tmp/glove.6B.100d.txt\n",
        "embeddings_index = {};\n",
        "with open('/tmp/glove.6B.100d.txt') as f:\n",
        "    for line in f:\n",
        "        values = line.split();\n",
        "        word = values[0];\n",
        "        coefs = np.asarray(values[1:], dtype='float32');\n",
        "        embeddings_index[word] = coefs;\n",
        "\n",
        "embeddings_matrix = np.zeros((vocab_size+1, embedding_dim));\n",
        "for word, i in word_index.items():\n",
        "    embedding_vector = embeddings_index.get(word);\n",
        "    if embedding_vector is not None:\n",
        "        embeddings_matrix[i] = embedding_vector;"
      ],
      "execution_count": 6,
      "outputs": [
        {
          "output_type": "stream",
          "text": [
            "--2020-07-26 18:27:16--  https://storage.googleapis.com/laurencemoroney-blog.appspot.com/glove.6B.100d.txt\n",
            "Resolving storage.googleapis.com (storage.googleapis.com)... 108.177.125.128, 74.125.23.128, 74.125.203.128, ...\n",
            "Connecting to storage.googleapis.com (storage.googleapis.com)|108.177.125.128|:443... connected.\n",
            "HTTP request sent, awaiting response... 200 OK\n",
            "Length: 347116733 (331M) [text/plain]\n",
            "Saving to: ‘/tmp/glove.6B.100d.txt’\n",
            "\n",
            "/tmp/glove.6B.100d. 100%[===================>] 331.04M  69.9MB/s    in 4.7s    \n",
            "\n",
            "2020-07-26 18:27:21 (69.9 MB/s) - ‘/tmp/glove.6B.100d.txt’ saved [347116733/347116733]\n",
            "\n"
          ],
          "name": "stdout"
        }
      ]
    },
    {
      "cell_type": "code",
      "metadata": {
        "colab_type": "code",
        "id": "71NLk_lpFLNt",
        "colab": {
          "base_uri": "https://localhost:8080/",
          "height": 34
        },
        "outputId": "637ce01d-38b5-4141-cd82-8228e9cd526f"
      },
      "source": [
        "print(len(embeddings_matrix))\n",
        "# Expected Output\n",
        "# 138859"
      ],
      "execution_count": 7,
      "outputs": [
        {
          "output_type": "stream",
          "text": [
            "139068\n"
          ],
          "name": "stdout"
        }
      ]
    },
    {
      "cell_type": "code",
      "metadata": {
        "colab_type": "code",
        "id": "iKKvbuEBOGFz",
        "colab": {
          "base_uri": "https://localhost:8080/",
          "height": 1000
        },
        "outputId": "cfaa394a-4e8f-4c3a-910e-a8e53f63db62"
      },
      "source": [
        "model = tf.keras.Sequential([\n",
        "    tf.keras.layers.Embedding(vocab_size+1, embedding_dim, input_length=max_length, weights=[embeddings_matrix], trainable=False),\n",
        "    # YOUR CODE HERE - experiment with combining different types, such as convolutions and LSTMs\n",
        "    tf.keras.layers.Conv1D(64, 5, activation = 'relu'),\n",
        "    tf.keras.layers.GlobalAveragePooling1D(),\n",
        "    tf.keras.layers.Dense(64, activation = 'relu'),\n",
        "    tf.keras.layers.Dense(1, activation='sigmoid')\n",
        "])\n",
        "model.compile(loss = 'binary_crossentropy', optimizer = 'adam', metrics = ['accuracy'])\n",
        "model.summary()\n",
        "\n",
        "num_epochs = 50\n",
        "history = model.fit(training_sequences, training_labels, epochs=num_epochs, validation_data=(test_sequences, test_labels), verbose=2)\n",
        "\n",
        "print(\"Training Complete\")\n"
      ],
      "execution_count": 8,
      "outputs": [
        {
          "output_type": "stream",
          "text": [
            "Model: \"sequential\"\n",
            "_________________________________________________________________\n",
            "Layer (type)                 Output Shape              Param #   \n",
            "=================================================================\n",
            "embedding (Embedding)        (None, 16, 100)           13906800  \n",
            "_________________________________________________________________\n",
            "conv1d (Conv1D)              (None, 12, 64)            32064     \n",
            "_________________________________________________________________\n",
            "global_average_pooling1d (Gl (None, 64)                0         \n",
            "_________________________________________________________________\n",
            "dense (Dense)                (None, 64)                4160      \n",
            "_________________________________________________________________\n",
            "dense_1 (Dense)              (None, 1)                 65        \n",
            "=================================================================\n",
            "Total params: 13,943,089\n",
            "Trainable params: 36,289\n",
            "Non-trainable params: 13,906,800\n",
            "_________________________________________________________________\n",
            "Epoch 1/50\n",
            "4500/4500 - 11s - loss: 0.5595 - accuracy: 0.7093 - val_loss: 0.5489 - val_accuracy: 0.7214\n",
            "Epoch 2/50\n",
            "4500/4500 - 11s - loss: 0.5141 - accuracy: 0.7415 - val_loss: 0.5163 - val_accuracy: 0.7423\n",
            "Epoch 3/50\n",
            "4500/4500 - 10s - loss: 0.4931 - accuracy: 0.7555 - val_loss: 0.5098 - val_accuracy: 0.7436\n",
            "Epoch 4/50\n",
            "4500/4500 - 10s - loss: 0.4773 - accuracy: 0.7661 - val_loss: 0.5315 - val_accuracy: 0.7318\n",
            "Epoch 5/50\n",
            "4500/4500 - 10s - loss: 0.4637 - accuracy: 0.7749 - val_loss: 0.5271 - val_accuracy: 0.7343\n",
            "Epoch 6/50\n",
            "4500/4500 - 10s - loss: 0.4514 - accuracy: 0.7815 - val_loss: 0.5485 - val_accuracy: 0.7171\n",
            "Epoch 7/50\n",
            "4500/4500 - 10s - loss: 0.4391 - accuracy: 0.7903 - val_loss: 0.5243 - val_accuracy: 0.7434\n",
            "Epoch 8/50\n",
            "4500/4500 - 10s - loss: 0.4295 - accuracy: 0.7955 - val_loss: 0.5214 - val_accuracy: 0.7476\n",
            "Epoch 9/50\n",
            "4500/4500 - 10s - loss: 0.4208 - accuracy: 0.8010 - val_loss: 0.5316 - val_accuracy: 0.7462\n",
            "Epoch 10/50\n",
            "4500/4500 - 10s - loss: 0.4121 - accuracy: 0.8058 - val_loss: 0.5276 - val_accuracy: 0.7438\n",
            "Epoch 11/50\n",
            "4500/4500 - 10s - loss: 0.4041 - accuracy: 0.8101 - val_loss: 0.5370 - val_accuracy: 0.7381\n",
            "Epoch 12/50\n",
            "4500/4500 - 10s - loss: 0.3971 - accuracy: 0.8142 - val_loss: 0.5475 - val_accuracy: 0.7397\n",
            "Epoch 13/50\n",
            "4500/4500 - 10s - loss: 0.3905 - accuracy: 0.8173 - val_loss: 0.5445 - val_accuracy: 0.7389\n",
            "Epoch 14/50\n",
            "4500/4500 - 10s - loss: 0.3837 - accuracy: 0.8214 - val_loss: 0.5557 - val_accuracy: 0.7402\n",
            "Epoch 15/50\n",
            "4500/4500 - 10s - loss: 0.3773 - accuracy: 0.8248 - val_loss: 0.5749 - val_accuracy: 0.7374\n",
            "Epoch 16/50\n",
            "4500/4500 - 10s - loss: 0.3712 - accuracy: 0.8279 - val_loss: 0.5706 - val_accuracy: 0.7359\n",
            "Epoch 17/50\n",
            "4500/4500 - 10s - loss: 0.3666 - accuracy: 0.8307 - val_loss: 0.5786 - val_accuracy: 0.7351\n",
            "Epoch 18/50\n",
            "4500/4500 - 12s - loss: 0.3600 - accuracy: 0.8351 - val_loss: 0.5989 - val_accuracy: 0.7366\n",
            "Epoch 19/50\n",
            "4500/4500 - 10s - loss: 0.3562 - accuracy: 0.8353 - val_loss: 0.6186 - val_accuracy: 0.7283\n",
            "Epoch 20/50\n",
            "4500/4500 - 11s - loss: 0.3505 - accuracy: 0.8387 - val_loss: 0.6336 - val_accuracy: 0.7314\n",
            "Epoch 21/50\n",
            "4500/4500 - 10s - loss: 0.3462 - accuracy: 0.8413 - val_loss: 0.6379 - val_accuracy: 0.7329\n",
            "Epoch 22/50\n",
            "4500/4500 - 10s - loss: 0.3412 - accuracy: 0.8435 - val_loss: 0.6428 - val_accuracy: 0.7308\n",
            "Epoch 23/50\n",
            "4500/4500 - 10s - loss: 0.3376 - accuracy: 0.8466 - val_loss: 0.6287 - val_accuracy: 0.7284\n",
            "Epoch 24/50\n",
            "4500/4500 - 10s - loss: 0.3331 - accuracy: 0.8482 - val_loss: 0.7221 - val_accuracy: 0.7166\n",
            "Epoch 25/50\n",
            "4500/4500 - 11s - loss: 0.3302 - accuracy: 0.8499 - val_loss: 0.6479 - val_accuracy: 0.7272\n",
            "Epoch 26/50\n",
            "4500/4500 - 10s - loss: 0.3256 - accuracy: 0.8521 - val_loss: 0.7005 - val_accuracy: 0.7225\n",
            "Epoch 27/50\n",
            "4500/4500 - 10s - loss: 0.3227 - accuracy: 0.8535 - val_loss: 0.7080 - val_accuracy: 0.7224\n",
            "Epoch 28/50\n",
            "4500/4500 - 10s - loss: 0.3178 - accuracy: 0.8558 - val_loss: 0.7228 - val_accuracy: 0.7264\n",
            "Epoch 29/50\n",
            "4500/4500 - 10s - loss: 0.3146 - accuracy: 0.8575 - val_loss: 0.7159 - val_accuracy: 0.7201\n",
            "Epoch 30/50\n",
            "4500/4500 - 10s - loss: 0.3118 - accuracy: 0.8595 - val_loss: 0.7177 - val_accuracy: 0.7218\n",
            "Epoch 31/50\n",
            "4500/4500 - 10s - loss: 0.3080 - accuracy: 0.8609 - val_loss: 0.7475 - val_accuracy: 0.7214\n",
            "Epoch 32/50\n",
            "4500/4500 - 10s - loss: 0.3052 - accuracy: 0.8624 - val_loss: 0.7639 - val_accuracy: 0.7224\n",
            "Epoch 33/50\n",
            "4500/4500 - 11s - loss: 0.3029 - accuracy: 0.8630 - val_loss: 0.7645 - val_accuracy: 0.7135\n",
            "Epoch 34/50\n",
            "4500/4500 - 10s - loss: 0.2998 - accuracy: 0.8653 - val_loss: 0.7883 - val_accuracy: 0.7251\n",
            "Epoch 35/50\n",
            "4500/4500 - 10s - loss: 0.2965 - accuracy: 0.8670 - val_loss: 0.7876 - val_accuracy: 0.7182\n",
            "Epoch 36/50\n",
            "4500/4500 - 11s - loss: 0.2943 - accuracy: 0.8670 - val_loss: 0.8324 - val_accuracy: 0.7179\n",
            "Epoch 37/50\n",
            "4500/4500 - 11s - loss: 0.2909 - accuracy: 0.8692 - val_loss: 0.8021 - val_accuracy: 0.7219\n",
            "Epoch 38/50\n",
            "4500/4500 - 10s - loss: 0.2884 - accuracy: 0.8705 - val_loss: 0.8105 - val_accuracy: 0.7207\n",
            "Epoch 39/50\n",
            "4500/4500 - 11s - loss: 0.2856 - accuracy: 0.8721 - val_loss: 0.8688 - val_accuracy: 0.7191\n",
            "Epoch 40/50\n",
            "4500/4500 - 10s - loss: 0.2841 - accuracy: 0.8729 - val_loss: 0.8799 - val_accuracy: 0.7166\n",
            "Epoch 41/50\n",
            "4500/4500 - 11s - loss: 0.2817 - accuracy: 0.8736 - val_loss: 0.8232 - val_accuracy: 0.7179\n",
            "Epoch 42/50\n",
            "4500/4500 - 10s - loss: 0.2776 - accuracy: 0.8759 - val_loss: 0.8962 - val_accuracy: 0.7212\n",
            "Epoch 43/50\n",
            "4500/4500 - 10s - loss: 0.2758 - accuracy: 0.8762 - val_loss: 0.9096 - val_accuracy: 0.7154\n",
            "Epoch 44/50\n",
            "4500/4500 - 10s - loss: 0.2742 - accuracy: 0.8775 - val_loss: 0.8954 - val_accuracy: 0.7142\n",
            "Epoch 45/50\n",
            "4500/4500 - 10s - loss: 0.2713 - accuracy: 0.8789 - val_loss: 0.9463 - val_accuracy: 0.7175\n",
            "Epoch 46/50\n",
            "4500/4500 - 10s - loss: 0.2694 - accuracy: 0.8796 - val_loss: 0.9274 - val_accuracy: 0.7197\n",
            "Epoch 47/50\n",
            "4500/4500 - 11s - loss: 0.2673 - accuracy: 0.8805 - val_loss: 0.9689 - val_accuracy: 0.7133\n",
            "Epoch 48/50\n",
            "4500/4500 - 11s - loss: 0.2650 - accuracy: 0.8821 - val_loss: 0.9100 - val_accuracy: 0.7141\n",
            "Epoch 49/50\n",
            "4500/4500 - 11s - loss: 0.2637 - accuracy: 0.8819 - val_loss: 0.9434 - val_accuracy: 0.7164\n",
            "Epoch 50/50\n",
            "4500/4500 - 10s - loss: 0.2620 - accuracy: 0.8833 - val_loss: 0.9607 - val_accuracy: 0.7132\n",
            "Training Complete\n"
          ],
          "name": "stdout"
        }
      ]
    },
    {
      "cell_type": "code",
      "metadata": {
        "colab_type": "code",
        "id": "qxju4ItJKO8F",
        "colab": {
          "base_uri": "https://localhost:8080/",
          "height": 608
        },
        "outputId": "e4767e06-9c2d-474e-ac02-45d01a52f999"
      },
      "source": [
        "import matplotlib.image  as mpimg\n",
        "import matplotlib.pyplot as plt\n",
        "\n",
        "#-----------------------------------------------------------\n",
        "# Retrieve a list of list results on training and test data\n",
        "# sets for each training epoch\n",
        "#-----------------------------------------------------------\n",
        "acc=history.history['accuracy']\n",
        "val_acc=history.history['val_accuracy']\n",
        "loss=history.history['loss']\n",
        "val_loss=history.history['val_loss']\n",
        "\n",
        "epochs=range(len(acc)) # Get number of epochs\n",
        "\n",
        "#------------------------------------------------\n",
        "# Plot training and validation accuracy per epoch\n",
        "#------------------------------------------------\n",
        "plt.plot(epochs, acc, 'r')\n",
        "plt.plot(epochs, val_acc, 'b')\n",
        "plt.title('Training and validation accuracy')\n",
        "plt.xlabel(\"Epochs\")\n",
        "plt.ylabel(\"Accuracy\")\n",
        "plt.legend([\"Accuracy\", \"Validation Accuracy\"])\n",
        "\n",
        "plt.figure()\n",
        "\n",
        "#------------------------------------------------\n",
        "# Plot training and validation loss per epoch\n",
        "#------------------------------------------------\n",
        "plt.plot(epochs, loss, 'r')\n",
        "plt.plot(epochs, val_loss, 'b')\n",
        "plt.title('Training and validation loss')\n",
        "plt.xlabel(\"Epochs\")\n",
        "plt.ylabel(\"Loss\")\n",
        "plt.legend([\"Loss\", \"Validation Loss\"])\n",
        "\n",
        "plt.figure()\n",
        "\n",
        "\n",
        "# Expected Output\n",
        "# A chart where the validation loss does not increase sharply!"
      ],
      "execution_count": 9,
      "outputs": [
        {
          "output_type": "execute_result",
          "data": {
            "text/plain": [
              "<Figure size 432x288 with 0 Axes>"
            ]
          },
          "metadata": {
            "tags": []
          },
          "execution_count": 9
        },
        {
          "output_type": "display_data",
          "data": {
            "image/png": "[encoded data removed]",
            "text/plain": [
              "<Figure size 432x288 with 1 Axes>"
            ]
          },
          "metadata": {
            "tags": [],
            "needs_background": "light"
          }
        },
        {
          "output_type": "display_data",
          "data": {
            "image/png": "[encoded data removed]",
            "text/plain": [
              "<Figure size 432x288 with 1 Axes>"
            ]
          },
          "metadata": {
            "tags": [],
            "needs_background": "light"
          }
        },
        {
          "output_type": "display_data",
          "data": {
            "text/plain": [
              "<Figure size 432x288 with 0 Axes>"
            ]
          },
          "metadata": {
            "tags": []
          }
        }
      ]
    },
    {
      "cell_type": "code",
      "metadata": {
        "id": "G0vrjH6wYI8k",
        "colab_type": "code",
        "colab": {}
      },
      "source": [
        ""
      ],
      "execution_count": null,
      "outputs": []
    }
  ]
}