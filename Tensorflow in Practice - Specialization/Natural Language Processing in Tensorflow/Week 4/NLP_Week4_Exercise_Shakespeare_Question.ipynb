{
  "nbformat": 4,
  "nbformat_minor": 0,
  "metadata": {
    "accelerator": "GPU",
    "colab": {
      "name": "NLP_Week4_Exercise_Shakespeare_Question.ipynb",
      "provenance": [],
      "toc_visible": true
    },
    "kernelspec": {
      "display_name": "Python 3",
      "name": "python3"
    }
  },
  "cells": [
    {
      "cell_type": "code",
      "metadata": {
        "id": "zX4Kg8DUTKWO",
        "colab_type": "code",
        "colab": {}
      },
      "source": [
        "#@title Licensed under the Apache License, Version 2.0 (the \"License\");\n",
        "# you may not use this file except in compliance with the License.\n",
        "# You may obtain a copy of the License at\n",
        "#\n",
        "# https://www.apache.org/licenses/LICENSE-2.0\n",
        "#\n",
        "# Unless required by applicable law or agreed to in writing, software\n",
        "# distributed under the License is distributed on an \"AS IS\" BASIS,\n",
        "# WITHOUT WARRANTIES OR CONDITIONS OF ANY KIND, either express or implied.\n",
        "# See the License for the specific language governing permissions and\n",
        "# limitations under the License."
      ],
      "execution_count": null,
      "outputs": []
    },
    {
      "cell_type": "code",
      "metadata": {
        "colab_type": "code",
        "id": "BOwsuGQQY9OL",
        "colab": {}
      },
      "source": [
        "import tensorflow as tf\n",
        "from tensorflow.keras.preprocessing.sequence import pad_sequences\n",
        "from tensorflow.keras.layers import Embedding, LSTM, Dense, Dropout, Bidirectional\n",
        "from tensorflow.keras.preprocessing.text import Tokenizer\n",
        "from tensorflow.keras.models import Sequential\n",
        "from tensorflow.keras.optimizers import Adam\n",
        "### YOUR CODE HERE\n",
        "# Figure out how to import regularizers\n",
        "###\n",
        "from tensorflow.keras import regularizers\n",
        "import tensorflow.keras.utils as ku \n",
        "import numpy as np "
      ],
      "execution_count": 7,
      "outputs": []
    },
    {
      "cell_type": "code",
      "metadata": {
        "colab_type": "code",
        "id": "PRnDnCW-Z7qv",
        "colab": {
          "base_uri": "https://localhost:8080/",
          "height": 208
        },
        "outputId": "d9481e0c-20a9-4510-fd5b-cd05285ad173"
      },
      "source": [
        "tokenizer = Tokenizer()\n",
        "!wget --no-check-certificate \\\n",
        "    https://storage.googleapis.com/laurencemoroney-blog.appspot.com/sonnets.txt \\\n",
        "    -O /tmp/sonnets.txt\n",
        "data = open('/tmp/sonnets.txt').read()\n",
        "\n",
        "corpus = data.lower().split(\"\\n\")\n",
        "\n",
        "\n",
        "tokenizer.fit_on_texts(corpus)\n",
        "total_words = len(tokenizer.word_index) + 1\n",
        "\n",
        "# create input sequences using list of tokens\n",
        "input_sequences = []\n",
        "for line in corpus:\n",
        "\ttoken_list = tokenizer.texts_to_sequences([line])[0]\n",
        "\tfor i in range(1, len(token_list)):\n",
        "\t\tn_gram_sequence = token_list[:i+1]\n",
        "\t\tinput_sequences.append(n_gram_sequence)\n",
        "\n",
        "\n",
        "# pad sequences \n",
        "max_sequence_len = max([len(x) for x in input_sequences])\n",
        "input_sequences = np.array(pad_sequences(input_sequences, maxlen=max_sequence_len, padding='pre'))\n",
        "\n",
        "# create predictors and label\n",
        "predictors, label = input_sequences[:,:-1],input_sequences[:,-1]\n",
        "\n",
        "label = ku.to_categorical(label, num_classes=total_words)"
      ],
      "execution_count": 8,
      "outputs": [
        {
          "output_type": "stream",
          "text": [
            "--2020-07-27 17:04:07--  https://storage.googleapis.com/laurencemoroney-blog.appspot.com/sonnets.txt\n",
            "Resolving storage.googleapis.com (storage.googleapis.com)... 64.233.167.128, 64.233.166.128, 173.194.76.128, ...\n",
            "Connecting to storage.googleapis.com (storage.googleapis.com)|64.233.167.128|:443... connected.\n",
            "HTTP request sent, awaiting response... 200 OK\n",
            "Length: 93578 (91K) [text/plain]\n",
            "Saving to: ‘/tmp/sonnets.txt’\n",
            "\n",
            "\r/tmp/sonnets.txt      0%[                    ]       0  --.-KB/s               \r/tmp/sonnets.txt    100%[===================>]  91.38K  --.-KB/s    in 0.001s  \n",
            "\n",
            "2020-07-27 17:04:07 (78.7 MB/s) - ‘/tmp/sonnets.txt’ saved [93578/93578]\n",
            "\n"
          ],
          "name": "stdout"
        }
      ]
    },
    {
      "cell_type": "code",
      "metadata": {
        "colab_type": "code",
        "id": "w9vH8Y59ajYL",
        "colab": {
          "base_uri": "https://localhost:8080/",
          "height": 382
        },
        "outputId": "730f81f7-56df-4495-f4c9-7b0f86a19e08"
      },
      "source": [
        "model = Sequential([\n",
        "    tf.keras.layers.Embedding(total_words, 100, input_length = max_sequence_len - 1),\n",
        "    tf.keras.layers.Bidirectional(LSTM(150, return_sequences = True)),\n",
        "    tf.keras.layers.Dropout(0.2),\n",
        "    tf.keras.layers.Bidirectional(LSTM(150)),\n",
        "    tf.keras.layers.Dense(total_words/2, kernel_regularizer = regularizers.l2(0.01), activation = 'relu'),\n",
        "    tf.keras.layers.Dense(total_words, activation = 'softmax')\n",
        "])\n",
        "# model.add(# Your Embedding Layer)\n",
        "# model.add(# An LSTM Layer)\n",
        "# model.add(# A dropout layer)\n",
        "# model.add(# Another LSTM Layer)\n",
        "# model.add(# A Dense Layer including regularizers)\n",
        "# model.add(# A Dense Layer)\n",
        "# Pick an optimizer\n",
        "model.compile(loss='categorical_crossentropy', optimizer = 'adam', metrics = ['accuracy'])\n",
        "print(model.summary())\n"
      ],
      "execution_count": 12,
      "outputs": [
        {
          "output_type": "stream",
          "text": [
            "Model: \"sequential\"\n",
            "_________________________________________________________________\n",
            "Layer (type)                 Output Shape              Param #   \n",
            "=================================================================\n",
            "embedding_2 (Embedding)      (None, 10, 100)           321100    \n",
            "_________________________________________________________________\n",
            "bidirectional_2 (Bidirection (None, 10, 300)           301200    \n",
            "_________________________________________________________________\n",
            "dropout_1 (Dropout)          (None, 10, 300)           0         \n",
            "_________________________________________________________________\n",
            "bidirectional_3 (Bidirection (None, 300)               541200    \n",
            "_________________________________________________________________\n",
            "dense (Dense)                (None, 1605)              483105    \n",
            "_________________________________________________________________\n",
            "dense_1 (Dense)              (None, 3211)              5156866   \n",
            "=================================================================\n",
            "Total params: 6,803,471\n",
            "Trainable params: 6,803,471\n",
            "Non-trainable params: 0\n",
            "_________________________________________________________________\n",
            "None\n"
          ],
          "name": "stdout"
        }
      ]
    },
    {
      "cell_type": "code",
      "metadata": {
        "colab_type": "code",
        "id": "AIg2f1HBxqof",
        "colab": {
          "base_uri": "https://localhost:8080/",
          "height": 1000
        },
        "outputId": "2784dc84-268a-486e-e910-138f697e371d"
      },
      "source": [
        " history = model.fit(predictors, label, epochs=100, verbose=1)"
      ],
      "execution_count": 13,
      "outputs": [
        {
          "output_type": "stream",
          "text": [
            "Epoch 1/100\n",
            "484/484 [==============================] - 16s 33ms/step - loss: 7.0185 - accuracy: 0.0200\n",
            "Epoch 2/100\n",
            "484/484 [==============================] - 16s 33ms/step - loss: 6.5104 - accuracy: 0.0223\n",
            "Epoch 3/100\n",
            "484/484 [==============================] - 16s 33ms/step - loss: 6.4234 - accuracy: 0.0228\n",
            "Epoch 4/100\n",
            "484/484 [==============================] - 16s 33ms/step - loss: 6.3104 - accuracy: 0.0282\n",
            "Epoch 5/100\n",
            "484/484 [==============================] - 16s 33ms/step - loss: 6.1932 - accuracy: 0.0359\n",
            "Epoch 6/100\n",
            "484/484 [==============================] - 16s 33ms/step - loss: 6.0993 - accuracy: 0.0417\n",
            "Epoch 7/100\n",
            "484/484 [==============================] - 16s 33ms/step - loss: 6.0024 - accuracy: 0.0417\n",
            "Epoch 8/100\n",
            "484/484 [==============================] - 16s 34ms/step - loss: 5.8978 - accuracy: 0.0461\n",
            "Epoch 9/100\n",
            "484/484 [==============================] - 16s 33ms/step - loss: 5.7811 - accuracy: 0.0521\n",
            "Epoch 10/100\n",
            "484/484 [==============================] - 16s 33ms/step - loss: 5.6660 - accuracy: 0.0600\n",
            "Epoch 11/100\n",
            "484/484 [==============================] - 16s 33ms/step - loss: 5.5546 - accuracy: 0.0660\n",
            "Epoch 12/100\n",
            "484/484 [==============================] - 16s 33ms/step - loss: 5.4478 - accuracy: 0.0752\n",
            "Epoch 13/100\n",
            "484/484 [==============================] - 16s 33ms/step - loss: 5.3298 - accuracy: 0.0830\n",
            "Epoch 14/100\n",
            "484/484 [==============================] - 16s 33ms/step - loss: 5.2182 - accuracy: 0.0922\n",
            "Epoch 15/100\n",
            "484/484 [==============================] - 16s 33ms/step - loss: 5.1009 - accuracy: 0.0993\n",
            "Epoch 16/100\n",
            "484/484 [==============================] - 16s 33ms/step - loss: 4.9803 - accuracy: 0.1103\n",
            "Epoch 17/100\n",
            "484/484 [==============================] - 16s 33ms/step - loss: 4.8610 - accuracy: 0.1201\n",
            "Epoch 18/100\n",
            "484/484 [==============================] - 16s 33ms/step - loss: 4.7436 - accuracy: 0.1293\n",
            "Epoch 19/100\n",
            "484/484 [==============================] - 16s 33ms/step - loss: 4.6332 - accuracy: 0.1424\n",
            "Epoch 20/100\n",
            "484/484 [==============================] - 16s 33ms/step - loss: 4.5120 - accuracy: 0.1541\n",
            "Epoch 21/100\n",
            "484/484 [==============================] - 16s 34ms/step - loss: 4.4014 - accuracy: 0.1632\n",
            "Epoch 22/100\n",
            "484/484 [==============================] - 16s 33ms/step - loss: 4.2868 - accuracy: 0.1816\n",
            "Epoch 23/100\n",
            "484/484 [==============================] - 16s 33ms/step - loss: 4.1728 - accuracy: 0.1952\n",
            "Epoch 24/100\n",
            "484/484 [==============================] - 16s 33ms/step - loss: 4.0643 - accuracy: 0.2026\n",
            "Epoch 25/100\n",
            "484/484 [==============================] - 16s 34ms/step - loss: 3.9537 - accuracy: 0.2207\n",
            "Epoch 26/100\n",
            "484/484 [==============================] - 16s 33ms/step - loss: 3.8414 - accuracy: 0.2366\n",
            "Epoch 27/100\n",
            "484/484 [==============================] - 16s 34ms/step - loss: 3.7262 - accuracy: 0.2559\n",
            "Epoch 28/100\n",
            "484/484 [==============================] - 16s 33ms/step - loss: 3.6288 - accuracy: 0.2764\n",
            "Epoch 29/100\n",
            "484/484 [==============================] - 16s 33ms/step - loss: 3.5200 - accuracy: 0.2964\n",
            "Epoch 30/100\n",
            "484/484 [==============================] - 16s 33ms/step - loss: 3.4175 - accuracy: 0.3198\n",
            "Epoch 31/100\n",
            "484/484 [==============================] - 16s 33ms/step - loss: 3.3237 - accuracy: 0.3446\n",
            "Epoch 32/100\n",
            "484/484 [==============================] - 16s 33ms/step - loss: 3.2341 - accuracy: 0.3597\n",
            "Epoch 33/100\n",
            "484/484 [==============================] - 16s 33ms/step - loss: 3.1404 - accuracy: 0.3831\n",
            "Epoch 34/100\n",
            "484/484 [==============================] - 16s 33ms/step - loss: 3.0576 - accuracy: 0.4005\n",
            "Epoch 35/100\n",
            "484/484 [==============================] - 16s 33ms/step - loss: 2.9689 - accuracy: 0.4194\n",
            "Epoch 36/100\n",
            "484/484 [==============================] - 16s 33ms/step - loss: 2.8767 - accuracy: 0.4420\n",
            "Epoch 37/100\n",
            "484/484 [==============================] - 16s 33ms/step - loss: 2.8057 - accuracy: 0.4559\n",
            "Epoch 38/100\n",
            "484/484 [==============================] - 16s 33ms/step - loss: 2.7282 - accuracy: 0.4787\n",
            "Epoch 39/100\n",
            "484/484 [==============================] - 16s 33ms/step - loss: 2.6487 - accuracy: 0.4956\n",
            "Epoch 40/100\n",
            "484/484 [==============================] - 16s 33ms/step - loss: 2.5974 - accuracy: 0.5052\n",
            "Epoch 41/100\n",
            "484/484 [==============================] - 16s 33ms/step - loss: 2.5241 - accuracy: 0.5227\n",
            "Epoch 42/100\n",
            "484/484 [==============================] - 16s 32ms/step - loss: 2.4579 - accuracy: 0.5368\n",
            "Epoch 43/100\n",
            "484/484 [==============================] - 16s 33ms/step - loss: 2.3973 - accuracy: 0.5534\n",
            "Epoch 44/100\n",
            "484/484 [==============================] - 16s 32ms/step - loss: 2.3227 - accuracy: 0.5699\n",
            "Epoch 45/100\n",
            "484/484 [==============================] - 16s 33ms/step - loss: 2.2788 - accuracy: 0.5797\n",
            "Epoch 46/100\n",
            "484/484 [==============================] - 16s 33ms/step - loss: 2.2249 - accuracy: 0.5905\n",
            "Epoch 47/100\n",
            "484/484 [==============================] - 16s 34ms/step - loss: 2.1621 - accuracy: 0.6081\n",
            "Epoch 48/100\n",
            "484/484 [==============================] - 16s 32ms/step - loss: 2.1131 - accuracy: 0.6195\n",
            "Epoch 49/100\n",
            "484/484 [==============================] - 16s 32ms/step - loss: 2.0725 - accuracy: 0.6251\n",
            "Epoch 50/100\n",
            "484/484 [==============================] - 16s 33ms/step - loss: 2.0201 - accuracy: 0.6404\n",
            "Epoch 51/100\n",
            "484/484 [==============================] - 16s 33ms/step - loss: 1.9669 - accuracy: 0.6521\n",
            "Epoch 52/100\n",
            "484/484 [==============================] - 16s 33ms/step - loss: 1.9560 - accuracy: 0.6524\n",
            "Epoch 53/100\n",
            "484/484 [==============================] - 16s 33ms/step - loss: 1.9139 - accuracy: 0.6628\n",
            "Epoch 54/100\n",
            "484/484 [==============================] - 16s 32ms/step - loss: 1.8575 - accuracy: 0.6734\n",
            "Epoch 55/100\n",
            "484/484 [==============================] - 16s 32ms/step - loss: 1.8133 - accuracy: 0.6841\n",
            "Epoch 56/100\n",
            "484/484 [==============================] - 16s 32ms/step - loss: 1.7725 - accuracy: 0.6922\n",
            "Epoch 57/100\n",
            "484/484 [==============================] - 16s 32ms/step - loss: 1.7444 - accuracy: 0.6992\n",
            "Epoch 58/100\n",
            "484/484 [==============================] - 16s 32ms/step - loss: 1.7084 - accuracy: 0.7069\n",
            "Epoch 59/100\n",
            "484/484 [==============================] - 16s 32ms/step - loss: 1.6945 - accuracy: 0.7063\n",
            "Epoch 60/100\n",
            "484/484 [==============================] - 16s 32ms/step - loss: 1.6572 - accuracy: 0.7151\n",
            "Epoch 61/100\n",
            "484/484 [==============================] - 16s 32ms/step - loss: 1.6177 - accuracy: 0.7242\n",
            "Epoch 62/100\n",
            "484/484 [==============================] - 16s 32ms/step - loss: 1.5892 - accuracy: 0.7289\n",
            "Epoch 63/100\n",
            "484/484 [==============================] - 16s 32ms/step - loss: 1.5710 - accuracy: 0.7310\n",
            "Epoch 64/100\n",
            "484/484 [==============================] - 16s 32ms/step - loss: 1.5464 - accuracy: 0.7344\n",
            "Epoch 65/100\n",
            "484/484 [==============================] - 16s 32ms/step - loss: 1.5124 - accuracy: 0.7436\n",
            "Epoch 66/100\n",
            "484/484 [==============================] - 16s 33ms/step - loss: 1.4860 - accuracy: 0.7485\n",
            "Epoch 67/100\n",
            "484/484 [==============================] - 16s 33ms/step - loss: 1.4850 - accuracy: 0.7473\n",
            "Epoch 68/100\n",
            "484/484 [==============================] - 16s 33ms/step - loss: 1.4488 - accuracy: 0.7562\n",
            "Epoch 69/100\n",
            "484/484 [==============================] - 16s 33ms/step - loss: 1.4181 - accuracy: 0.7636\n",
            "Epoch 70/100\n",
            "484/484 [==============================] - 16s 33ms/step - loss: 1.4073 - accuracy: 0.7604\n",
            "Epoch 71/100\n",
            "484/484 [==============================] - 16s 33ms/step - loss: 1.3821 - accuracy: 0.7697\n",
            "Epoch 72/100\n",
            "484/484 [==============================] - 16s 33ms/step - loss: 1.3618 - accuracy: 0.7699\n",
            "Epoch 73/100\n",
            "484/484 [==============================] - 16s 32ms/step - loss: 1.3542 - accuracy: 0.7716\n",
            "Epoch 74/100\n",
            "484/484 [==============================] - 16s 33ms/step - loss: 1.3481 - accuracy: 0.7687\n",
            "Epoch 75/100\n",
            "484/484 [==============================] - 16s 33ms/step - loss: 1.3248 - accuracy: 0.7724\n",
            "Epoch 76/100\n",
            "484/484 [==============================] - 16s 33ms/step - loss: 1.2913 - accuracy: 0.7831\n",
            "Epoch 77/100\n",
            "484/484 [==============================] - 16s 33ms/step - loss: 1.2807 - accuracy: 0.7864\n",
            "Epoch 78/100\n",
            "484/484 [==============================] - 16s 32ms/step - loss: 1.2720 - accuracy: 0.7853\n",
            "Epoch 79/100\n",
            "484/484 [==============================] - 16s 33ms/step - loss: 1.2497 - accuracy: 0.7875\n",
            "Epoch 80/100\n",
            "484/484 [==============================] - 16s 33ms/step - loss: 1.2475 - accuracy: 0.7911\n",
            "Epoch 81/100\n",
            "484/484 [==============================] - 16s 33ms/step - loss: 1.2264 - accuracy: 0.7934\n",
            "Epoch 82/100\n",
            "484/484 [==============================] - 16s 33ms/step - loss: 1.2125 - accuracy: 0.7920\n",
            "Epoch 83/100\n",
            "484/484 [==============================] - 16s 33ms/step - loss: 1.1976 - accuracy: 0.7974\n",
            "Epoch 84/100\n",
            "484/484 [==============================] - 16s 33ms/step - loss: 1.1870 - accuracy: 0.7968\n",
            "Epoch 85/100\n",
            "484/484 [==============================] - 16s 34ms/step - loss: 1.1909 - accuracy: 0.7992\n",
            "Epoch 86/100\n",
            "484/484 [==============================] - 17s 35ms/step - loss: 1.1729 - accuracy: 0.8001\n",
            "Epoch 87/100\n",
            "484/484 [==============================] - 16s 34ms/step - loss: 1.1603 - accuracy: 0.8011\n",
            "Epoch 88/100\n",
            "484/484 [==============================] - 16s 33ms/step - loss: 1.1568 - accuracy: 0.8020\n",
            "Epoch 89/100\n",
            "484/484 [==============================] - 16s 33ms/step - loss: 1.1304 - accuracy: 0.8086\n",
            "Epoch 90/100\n",
            "484/484 [==============================] - 16s 33ms/step - loss: 1.1264 - accuracy: 0.8053\n",
            "Epoch 91/100\n",
            "484/484 [==============================] - 16s 33ms/step - loss: 1.1051 - accuracy: 0.8085\n",
            "Epoch 92/100\n",
            "484/484 [==============================] - 16s 33ms/step - loss: 1.1022 - accuracy: 0.8099\n",
            "Epoch 93/100\n",
            "484/484 [==============================] - 16s 33ms/step - loss: 1.1012 - accuracy: 0.8097\n",
            "Epoch 94/100\n",
            "484/484 [==============================] - 16s 33ms/step - loss: 1.0887 - accuracy: 0.8126\n",
            "Epoch 95/100\n",
            "484/484 [==============================] - 16s 33ms/step - loss: 1.0835 - accuracy: 0.8134\n",
            "Epoch 96/100\n",
            "484/484 [==============================] - 16s 33ms/step - loss: 1.0920 - accuracy: 0.8106\n",
            "Epoch 97/100\n",
            "484/484 [==============================] - 16s 33ms/step - loss: 1.0750 - accuracy: 0.8131\n",
            "Epoch 98/100\n",
            "484/484 [==============================] - 16s 33ms/step - loss: 1.0710 - accuracy: 0.8099\n",
            "Epoch 99/100\n",
            "484/484 [==============================] - 16s 33ms/step - loss: 1.0561 - accuracy: 0.8172\n",
            "Epoch 100/100\n",
            "484/484 [==============================] - 16s 33ms/step - loss: 1.0387 - accuracy: 0.8158\n"
          ],
          "name": "stdout"
        }
      ]
    },
    {
      "cell_type": "code",
      "metadata": {
        "colab_type": "code",
        "id": "1fXTEO3GJ282",
        "colab": {
          "base_uri": "https://localhost:8080/",
          "height": 545
        },
        "outputId": "163d333b-c55c-448c-8db6-f91b6995de90"
      },
      "source": [
        "import matplotlib.pyplot as plt\n",
        "acc = history.history['accuracy']\n",
        "loss = history.history['loss']\n",
        "\n",
        "epochs = range(len(acc))\n",
        "\n",
        "plt.plot(epochs, acc, 'b', label='Training accuracy')\n",
        "plt.title('Training accuracy')\n",
        "\n",
        "plt.figure()\n",
        "\n",
        "plt.plot(epochs, loss, 'b', label='Training Loss')\n",
        "plt.title('Training loss')\n",
        "plt.legend()\n",
        "\n",
        "plt.show()"
      ],
      "execution_count": 14,
      "outputs": [
        {
          "output_type": "display_data",
          "data": {
            "image/png": "[encoded data removed]",
            "text/plain": [
              "<Figure size 432x288 with 1 Axes>"
            ]
          },
          "metadata": {
            "tags": [],
            "needs_background": "light"
          }
        },
        {
          "output_type": "display_data",
          "data": {
            "image/png": "[encoded data removed]",
            "text/plain": [
              "<Figure size 432x288 with 1 Axes>"
            ]
          },
          "metadata": {
            "tags": [],
            "needs_background": "light"
          }
        }
      ]
    },
    {
      "cell_type": "code",
      "metadata": {
        "colab_type": "code",
        "id": "6Vc6PHgxa6Hm",
        "colab": {
          "base_uri": "https://localhost:8080/",
          "height": 106
        },
        "outputId": "652bea15-a9d0-4f1f-d7f8-0af23959a818"
      },
      "source": [
        "seed_text = \"Help me Obi Wan Kenobi, you're my only hope\"\n",
        "next_words = 100\n",
        "  \n",
        "for _ in range(next_words):\n",
        "\ttoken_list = tokenizer.texts_to_sequences([seed_text])[0]\n",
        "\ttoken_list = pad_sequences([token_list], maxlen=max_sequence_len-1, padding='pre')\n",
        "\tpredicted = model.predict_classes(token_list, verbose=0)\n",
        "\toutput_word = \"\"\n",
        "\tfor word, index in tokenizer.word_index.items():\n",
        "\t\tif index == predicted:\n",
        "\t\t\toutput_word = word\n",
        "\t\t\tbreak\n",
        "\tseed_text += \" \" + output_word\n",
        "print(seed_text)"
      ],
      "execution_count": 15,
      "outputs": [
        {
          "output_type": "stream",
          "text": [
            "WARNING:tensorflow:From <ipython-input-15-622d307fa19a>:7: Sequential.predict_classes (from tensorflow.python.keras.engine.sequential) is deprecated and will be removed after 2021-01-01.\n",
            "Instructions for updating:\n",
            "Please use instead:* `np.argmax(model.predict(x), axis=-1)`,   if your model does multi-class classification   (e.g. if it uses a `softmax` last-layer activation).* `(model.predict(x) > 0.5).astype(\"int32\")`,   if your model does binary classification   (e.g. if it uses a `sigmoid` last-layer activation).\n",
            "Help me Obi Wan Kenobi, you're my only hope to his living report best ' still live here ' must live so forth so o'er more strong shame rare go wide age of well shows thy worth so lies now thee resort foes grow cold dearer dearer dearer best best ' ' ' must say youth it in such living wrong ' still inhearse hence quite about about latch word must live ' ' ' still write so so great old dear eye ' and well took weeds moan sits equipage ground wind shines new ' are torn days affords bow go wrong ' still ' still live more\n"
          ],
          "name": "stdout"
        }
      ]
    },
    {
      "cell_type": "code",
      "metadata": {
        "id": "54hcwGKGOsgJ",
        "colab_type": "code",
        "colab": {}
      },
      "source": [
        ""
      ],
      "execution_count": null,
      "outputs": []
    }
  ]
}