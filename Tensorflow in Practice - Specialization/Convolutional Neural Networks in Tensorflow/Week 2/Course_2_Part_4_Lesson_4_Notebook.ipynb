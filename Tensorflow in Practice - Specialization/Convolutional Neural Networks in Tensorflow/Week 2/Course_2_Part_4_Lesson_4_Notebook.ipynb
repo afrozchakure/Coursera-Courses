{
  "nbformat": 4,
  "nbformat_minor": 0,
  "metadata": {
    "accelerator": "GPU",
    "colab": {
      "name": "Course 2 - Part 4 - Lesson 4 - Notebook.ipynb",
      "provenance": [],
      "collapsed_sections": [],
      "toc_visible": true
    },
    "kernelspec": {
      "display_name": "Python 3",
      "name": "python3"
    }
  },
  "cells": [
    {
      "cell_type": "markdown",
      "metadata": {
        "colab_type": "text",
        "id": "rX8mhOLljYeM"
      },
      "source": [
        "##### Copyright 2019 The TensorFlow Authors."
      ]
    },
    {
      "cell_type": "code",
      "metadata": {
        "cellView": "form",
        "colab_type": "code",
        "id": "BZSlp3DAjdYf",
        "colab": {}
      },
      "source": [
        "#@title Licensed under the Apache License, Version 2.0 (the \"License\");\n",
        "# you may not use this file except in compliance with the License.\n",
        "# You may obtain a copy of the License at\n",
        "#\n",
        "# https://www.apache.org/licenses/LICENSE-2.0\n",
        "#\n",
        "# Unless required by applicable law or agreed to in writing, software\n",
        "# distributed under the License is distributed on an \"AS IS\" BASIS,\n",
        "# WITHOUT WARRANTIES OR CONDITIONS OF ANY KIND, either express or implied.\n",
        "# See the License for the specific language governing permissions and\n",
        "# limitations under the License."
      ],
      "execution_count": null,
      "outputs": []
    },
    {
      "cell_type": "code",
      "metadata": {
        "colab_type": "code",
        "id": "RXZT2UsyIVe_",
        "colab": {
          "base_uri": "https://localhost:8080/",
          "height": 399
        },
        "outputId": "4c2aad27-9dab-41f8-9fd9-e637a8a244f6"
      },
      "source": [
        "!wget --no-check-certificate \\\n",
        "    https://storage.googleapis.com/laurencemoroney-blog.appspot.com/horse-or-human.zip \\\n",
        "    -O /tmp/horse-or-human.zip\n",
        "\n",
        "!wget --no-check-certificate \\\n",
        "    https://storage.googleapis.com/laurencemoroney-blog.appspot.com/validation-horse-or-human.zip \\\n",
        "    -O /tmp/validation-horse-or-human.zip\n",
        "  \n",
        "import os\n",
        "import zipfile\n",
        "\n",
        "local_zip = '/tmp/horse-or-human.zip'\n",
        "zip_ref = zipfile.ZipFile(local_zip, 'r')\n",
        "zip_ref.extractall('/tmp/horse-or-human')\n",
        "local_zip = '/tmp/validation-horse-or-human.zip'\n",
        "zip_ref = zipfile.ZipFile(local_zip, 'r')\n",
        "zip_ref.extractall('/tmp/validation-horse-or-human')\n",
        "zip_ref.close()\n",
        "# Directory with our training horse pictures\n",
        "train_horse_dir = os.path.join('/tmp/horse-or-human/horses')\n",
        "\n",
        "# Directory with our training human pictures\n",
        "train_human_dir = os.path.join('/tmp/horse-or-human/humans')\n",
        "\n",
        "# Directory with our training horse pictures\n",
        "validation_horse_dir = os.path.join('/tmp/validation-horse-or-human/horses')\n",
        "\n",
        "# Directory with our training human pictures\n",
        "validation_human_dir = os.path.join('/tmp/validation-horse-or-human/humans')"
      ],
      "execution_count": 1,
      "outputs": [
        {
          "output_type": "stream",
          "text": [
            "--2020-07-22 17:05:18--  https://storage.googleapis.com/laurencemoroney-blog.appspot.com/horse-or-human.zip\n",
            "Resolving storage.googleapis.com (storage.googleapis.com)... 74.125.206.128, 64.233.166.128, 173.194.76.128, ...\n",
            "Connecting to storage.googleapis.com (storage.googleapis.com)|74.125.206.128|:443... connected.\n",
            "HTTP request sent, awaiting response... 200 OK\n",
            "Length: 149574867 (143M) [application/zip]\n",
            "Saving to: ‘/tmp/horse-or-human.zip’\n",
            "\n",
            "/tmp/horse-or-human 100%[===================>] 142.65M  60.6MB/s    in 2.4s    \n",
            "\n",
            "2020-07-22 17:05:21 (60.6 MB/s) - ‘/tmp/horse-or-human.zip’ saved [149574867/149574867]\n",
            "\n",
            "--2020-07-22 17:05:23--  https://storage.googleapis.com/laurencemoroney-blog.appspot.com/validation-horse-or-human.zip\n",
            "Resolving storage.googleapis.com (storage.googleapis.com)... 108.177.15.128, 173.194.76.128, 74.125.206.128, ...\n",
            "Connecting to storage.googleapis.com (storage.googleapis.com)|108.177.15.128|:443... connected.\n",
            "HTTP request sent, awaiting response... 200 OK\n",
            "Length: 11480187 (11M) [application/zip]\n",
            "Saving to: ‘/tmp/validation-horse-or-human.zip’\n",
            "\n",
            "/tmp/validation-hor 100%[===================>]  10.95M  --.-KB/s    in 0.1s    \n",
            "\n",
            "2020-07-22 17:05:24 (111 MB/s) - ‘/tmp/validation-horse-or-human.zip’ saved [11480187/11480187]\n",
            "\n"
          ],
          "name": "stdout"
        }
      ]
    },
    {
      "cell_type": "markdown",
      "metadata": {
        "colab_type": "text",
        "id": "5oqBkNBJmtUv"
      },
      "source": [
        "## Building a Small Model from Scratch\n",
        "\n",
        "But before we continue, let's start defining the model:\n",
        "\n",
        "Step 1 will be to import tensorflow."
      ]
    },
    {
      "cell_type": "code",
      "metadata": {
        "colab_type": "code",
        "id": "qvfZg3LQbD-5",
        "colab": {}
      },
      "source": [
        "import tensorflow as tf"
      ],
      "execution_count": 2,
      "outputs": []
    },
    {
      "cell_type": "markdown",
      "metadata": {
        "colab_type": "text",
        "id": "BnhYCP4tdqjC"
      },
      "source": [
        "We then add convolutional layers as in the previous example, and flatten the final result to feed into the densely connected layers."
      ]
    },
    {
      "cell_type": "markdown",
      "metadata": {
        "colab_type": "text",
        "id": "gokG5HKpdtzm"
      },
      "source": [
        "Finally we add the densely connected layers. \n",
        "\n",
        "Note that because we are facing a two-class classification problem, i.e. a *binary classification problem*, we will end our network with a [*sigmoid* activation](https://wikipedia.org/wiki/Sigmoid_function), so that the output of our network will be a single scalar between 0 and 1, encoding the probability that the current image is class 1 (as opposed to class 0)."
      ]
    },
    {
      "cell_type": "code",
      "metadata": {
        "colab_type": "code",
        "id": "PixZ2s5QbYQ3",
        "colab": {}
      },
      "source": [
        "model = tf.keras.models.Sequential([\n",
        "    # Note the input shape is the desired size of the image 300x300 with 3 bytes color\n",
        "    # This is the first convolution\n",
        "    tf.keras.layers.Conv2D(16, (3,3), activation='relu', input_shape=(300, 300, 3)),\n",
        "    tf.keras.layers.MaxPooling2D(2, 2),\n",
        "    # The second convolution\n",
        "    tf.keras.layers.Conv2D(32, (3,3), activation='relu'),\n",
        "    tf.keras.layers.MaxPooling2D(2,2),\n",
        "    # The third convolution\n",
        "    tf.keras.layers.Conv2D(64, (3,3), activation='relu'),\n",
        "    tf.keras.layers.MaxPooling2D(2,2),\n",
        "    # The fourth convolution\n",
        "    tf.keras.layers.Conv2D(64, (3,3), activation='relu'),\n",
        "    tf.keras.layers.MaxPooling2D(2,2),\n",
        "    # The fifth convolution\n",
        "    tf.keras.layers.Conv2D(64, (3,3), activation='relu'),\n",
        "    tf.keras.layers.MaxPooling2D(2,2),\n",
        "    # Flatten the results to feed into a DNN\n",
        "    tf.keras.layers.Flatten(),\n",
        "    # 512 neuron hidden layer\n",
        "    tf.keras.layers.Dense(512, activation='relu'),\n",
        "    # Only 1 output neuron. It will contain a value from 0-1 where 0 for 1 class ('horses') and 1 for the other ('humans')\n",
        "    tf.keras.layers.Dense(1, activation='sigmoid')\n",
        "])"
      ],
      "execution_count": 3,
      "outputs": []
    },
    {
      "cell_type": "code",
      "metadata": {
        "colab_type": "code",
        "id": "8DHWhFP_uhq3",
        "colab": {}
      },
      "source": [
        "from tensorflow.keras.optimizers import RMSprop\n",
        "\n",
        "model.compile(loss='binary_crossentropy',\n",
        "              optimizer=RMSprop(lr=1e-4),\n",
        "              metrics=['accuracy'])"
      ],
      "execution_count": 4,
      "outputs": []
    },
    {
      "cell_type": "code",
      "metadata": {
        "colab_type": "code",
        "id": "ClebU9NJg99G",
        "colab": {
          "base_uri": "https://localhost:8080/",
          "height": 52
        },
        "outputId": "9250692e-d53b-4ffb-aaf8-c4f01d8627b7"
      },
      "source": [
        "from tensorflow.keras.preprocessing.image import ImageDataGenerator\n",
        "\n",
        "# All images will be rescaled by 1./255\n",
        "train_datagen = ImageDataGenerator(\n",
        "      rescale=1./255,\n",
        "      rotation_range=40,\n",
        "      width_shift_range=0.2,\n",
        "      height_shift_range=0.2,\n",
        "      shear_range=0.2,\n",
        "      zoom_range=0.2,\n",
        "      horizontal_flip=True,\n",
        "      fill_mode='nearest')\n",
        "\n",
        "validation_datagen = ImageDataGenerator(rescale=1/255)\n",
        "\n",
        "# Flow training images in batches of 128 using train_datagen generator\n",
        "train_generator = train_datagen.flow_from_directory(\n",
        "        '/tmp/horse-or-human/',  # This is the source directory for training images\n",
        "        target_size=(300, 300),  # All images will be resized to 150x150\n",
        "        batch_size=128,\n",
        "        # Since we use binary_crossentropy loss, we need binary labels\n",
        "        class_mode='binary')\n",
        "\n",
        "# Flow training images in batches of 128 using train_datagen generator\n",
        "validation_generator = validation_datagen.flow_from_directory(\n",
        "        '/tmp/validation-horse-or-human/',  # This is the source directory for training images\n",
        "        target_size=(300, 300),  # All images will be resized to 150x150\n",
        "        batch_size=32,\n",
        "        # Since we use binary_crossentropy loss, we need binary labels\n",
        "        class_mode='binary')"
      ],
      "execution_count": 5,
      "outputs": [
        {
          "output_type": "stream",
          "text": [
            "Found 1027 images belonging to 2 classes.\n",
            "Found 256 images belonging to 2 classes.\n"
          ],
          "name": "stdout"
        }
      ]
    },
    {
      "cell_type": "code",
      "metadata": {
        "colab_type": "code",
        "id": "Fb1_lgobv81m",
        "colab": {
          "base_uri": "https://localhost:8080/",
          "height": 1000
        },
        "outputId": "8f46f071-0e72-4397-c05a-6a37ec803408"
      },
      "source": [
        "history = model.fit(\n",
        "      train_generator,\n",
        "      steps_per_epoch=8,  \n",
        "      epochs=100,\n",
        "      verbose=1,\n",
        "      validation_data = validation_generator,\n",
        "      validation_steps=8)"
      ],
      "execution_count": 6,
      "outputs": [
        {
          "output_type": "stream",
          "text": [
            "Epoch 1/100\n",
            "8/8 [==============================] - 20s 2s/step - loss: 0.6850 - accuracy: 0.5172 - val_loss: 0.6746 - val_accuracy: 0.6055\n",
            "Epoch 2/100\n",
            "8/8 [==============================] - 22s 3s/step - loss: 0.6556 - accuracy: 0.6485 - val_loss: 0.6339 - val_accuracy: 0.6562\n",
            "Epoch 3/100\n",
            "8/8 [==============================] - 21s 3s/step - loss: 0.6217 - accuracy: 0.6641 - val_loss: 0.6665 - val_accuracy: 0.5000\n",
            "Epoch 4/100\n",
            "8/8 [==============================] - 21s 3s/step - loss: 0.6352 - accuracy: 0.6585 - val_loss: 0.5937 - val_accuracy: 0.6523\n",
            "Epoch 5/100\n",
            "8/8 [==============================] - 21s 3s/step - loss: 0.6325 - accuracy: 0.6763 - val_loss: 0.6346 - val_accuracy: 0.5703\n",
            "Epoch 6/100\n",
            "8/8 [==============================] - 21s 3s/step - loss: 0.5427 - accuracy: 0.7497 - val_loss: 0.5235 - val_accuracy: 0.8086\n",
            "Epoch 7/100\n",
            "8/8 [==============================] - 21s 3s/step - loss: 0.5756 - accuracy: 0.6930 - val_loss: 0.6718 - val_accuracy: 0.5742\n",
            "Epoch 8/100\n",
            "8/8 [==============================] - 22s 3s/step - loss: 0.5366 - accuracy: 0.7386 - val_loss: 0.7183 - val_accuracy: 0.5703\n",
            "Epoch 9/100\n",
            "8/8 [==============================] - 21s 3s/step - loss: 0.5223 - accuracy: 0.7464 - val_loss: 0.6554 - val_accuracy: 0.6211\n",
            "Epoch 10/100\n",
            "8/8 [==============================] - 24s 3s/step - loss: 0.5166 - accuracy: 0.7500 - val_loss: 0.9502 - val_accuracy: 0.5312\n",
            "Epoch 11/100\n",
            "8/8 [==============================] - 21s 3s/step - loss: 0.4916 - accuracy: 0.7531 - val_loss: 1.0438 - val_accuracy: 0.5312\n",
            "Epoch 12/100\n",
            "8/8 [==============================] - 21s 3s/step - loss: 0.4894 - accuracy: 0.7620 - val_loss: 0.3309 - val_accuracy: 0.8750\n",
            "Epoch 13/100\n",
            "8/8 [==============================] - 22s 3s/step - loss: 0.4994 - accuracy: 0.7664 - val_loss: 1.0956 - val_accuracy: 0.5391\n",
            "Epoch 14/100\n",
            "8/8 [==============================] - 21s 3s/step - loss: 0.4393 - accuracy: 0.8120 - val_loss: 0.9717 - val_accuracy: 0.6211\n",
            "Epoch 15/100\n",
            "8/8 [==============================] - 22s 3s/step - loss: 0.5292 - accuracy: 0.7631 - val_loss: 1.0138 - val_accuracy: 0.6094\n",
            "Epoch 16/100\n",
            "8/8 [==============================] - 25s 3s/step - loss: 0.4612 - accuracy: 0.7953 - val_loss: 1.2272 - val_accuracy: 0.5703\n",
            "Epoch 17/100\n",
            "8/8 [==============================] - 22s 3s/step - loss: 0.4107 - accuracy: 0.8065 - val_loss: 0.9245 - val_accuracy: 0.6758\n",
            "Epoch 18/100\n",
            "8/8 [==============================] - 22s 3s/step - loss: 0.4159 - accuracy: 0.8142 - val_loss: 1.0693 - val_accuracy: 0.6445\n",
            "Epoch 19/100\n",
            "8/8 [==============================] - 24s 3s/step - loss: 0.3823 - accuracy: 0.8301 - val_loss: 0.9722 - val_accuracy: 0.6914\n",
            "Epoch 20/100\n",
            "8/8 [==============================] - 22s 3s/step - loss: 0.4328 - accuracy: 0.7987 - val_loss: 1.5987 - val_accuracy: 0.5547\n",
            "Epoch 21/100\n",
            "8/8 [==============================] - 22s 3s/step - loss: 0.3905 - accuracy: 0.8165 - val_loss: 1.2797 - val_accuracy: 0.6133\n",
            "Epoch 22/100\n",
            "8/8 [==============================] - 22s 3s/step - loss: 0.4232 - accuracy: 0.7953 - val_loss: 1.0985 - val_accuracy: 0.6562\n",
            "Epoch 23/100\n",
            "8/8 [==============================] - 22s 3s/step - loss: 0.3601 - accuracy: 0.8509 - val_loss: 1.1601 - val_accuracy: 0.6367\n",
            "Epoch 24/100\n",
            "8/8 [==============================] - 22s 3s/step - loss: 0.3779 - accuracy: 0.8398 - val_loss: 1.3457 - val_accuracy: 0.6289\n",
            "Epoch 25/100\n",
            "8/8 [==============================] - 22s 3s/step - loss: 0.3644 - accuracy: 0.8354 - val_loss: 1.5477 - val_accuracy: 0.5977\n",
            "Epoch 26/100\n",
            "8/8 [==============================] - 22s 3s/step - loss: 0.3554 - accuracy: 0.8409 - val_loss: 0.3822 - val_accuracy: 0.8633\n",
            "Epoch 27/100\n",
            "8/8 [==============================] - 22s 3s/step - loss: 0.4460 - accuracy: 0.7887 - val_loss: 1.2300 - val_accuracy: 0.6367\n",
            "Epoch 28/100\n",
            "8/8 [==============================] - 22s 3s/step - loss: 0.3233 - accuracy: 0.8699 - val_loss: 1.3719 - val_accuracy: 0.6484\n",
            "Epoch 29/100\n",
            "8/8 [==============================] - 22s 3s/step - loss: 0.3679 - accuracy: 0.8276 - val_loss: 1.2234 - val_accuracy: 0.6758\n",
            "Epoch 30/100\n",
            "8/8 [==============================] - 25s 3s/step - loss: 0.3291 - accuracy: 0.8476 - val_loss: 1.1196 - val_accuracy: 0.6953\n",
            "Epoch 31/100\n",
            "8/8 [==============================] - 22s 3s/step - loss: 0.3276 - accuracy: 0.8621 - val_loss: 1.8035 - val_accuracy: 0.5977\n",
            "Epoch 32/100\n",
            "8/8 [==============================] - 22s 3s/step - loss: 0.3255 - accuracy: 0.8543 - val_loss: 1.5504 - val_accuracy: 0.6680\n",
            "Epoch 33/100\n",
            "8/8 [==============================] - 22s 3s/step - loss: 0.3485 - accuracy: 0.8543 - val_loss: 1.6110 - val_accuracy: 0.6602\n",
            "Epoch 34/100\n",
            "8/8 [==============================] - 22s 3s/step - loss: 0.3300 - accuracy: 0.8587 - val_loss: 1.5610 - val_accuracy: 0.6484\n",
            "Epoch 35/100\n",
            "8/8 [==============================] - 22s 3s/step - loss: 0.2856 - accuracy: 0.8854 - val_loss: 0.5146 - val_accuracy: 0.8477\n",
            "Epoch 36/100\n",
            "8/8 [==============================] - 22s 3s/step - loss: 0.3764 - accuracy: 0.8465 - val_loss: 3.2891 - val_accuracy: 0.5312\n",
            "Epoch 37/100\n",
            "8/8 [==============================] - 22s 3s/step - loss: 0.3091 - accuracy: 0.8687 - val_loss: 1.5801 - val_accuracy: 0.6562\n",
            "Epoch 38/100\n",
            "8/8 [==============================] - 22s 3s/step - loss: 0.3017 - accuracy: 0.8810 - val_loss: 1.5041 - val_accuracy: 0.6719\n",
            "Epoch 39/100\n",
            "8/8 [==============================] - 22s 3s/step - loss: 0.3409 - accuracy: 0.8598 - val_loss: 1.4616 - val_accuracy: 0.6719\n",
            "Epoch 40/100\n",
            "8/8 [==============================] - 22s 3s/step - loss: 0.2620 - accuracy: 0.8966 - val_loss: 1.6678 - val_accuracy: 0.6484\n",
            "Epoch 41/100\n",
            "8/8 [==============================] - 25s 3s/step - loss: 0.2765 - accuracy: 0.8877 - val_loss: 1.6305 - val_accuracy: 0.6641\n",
            "Epoch 42/100\n",
            "8/8 [==============================] - 21s 3s/step - loss: 0.2409 - accuracy: 0.9021 - val_loss: 2.9179 - val_accuracy: 0.5664\n",
            "Epoch 43/100\n",
            "8/8 [==============================] - 22s 3s/step - loss: 0.3048 - accuracy: 0.8776 - val_loss: 1.8306 - val_accuracy: 0.6602\n",
            "Epoch 44/100\n",
            "8/8 [==============================] - 24s 3s/step - loss: 0.2511 - accuracy: 0.8955 - val_loss: 2.7971 - val_accuracy: 0.5664\n",
            "Epoch 45/100\n",
            "8/8 [==============================] - 22s 3s/step - loss: 0.2631 - accuracy: 0.8854 - val_loss: 3.2504 - val_accuracy: 0.5508\n",
            "Epoch 46/100\n",
            "8/8 [==============================] - 22s 3s/step - loss: 0.2768 - accuracy: 0.8865 - val_loss: 1.0098 - val_accuracy: 0.7578\n",
            "Epoch 47/100\n",
            "8/8 [==============================] - 22s 3s/step - loss: 0.2759 - accuracy: 0.8843 - val_loss: 1.4844 - val_accuracy: 0.6836\n",
            "Epoch 48/100\n",
            "8/8 [==============================] - 22s 3s/step - loss: 0.2450 - accuracy: 0.8932 - val_loss: 2.5034 - val_accuracy: 0.5820\n",
            "Epoch 49/100\n",
            "8/8 [==============================] - 22s 3s/step - loss: 0.2599 - accuracy: 0.8921 - val_loss: 1.9397 - val_accuracy: 0.6562\n",
            "Epoch 50/100\n",
            "8/8 [==============================] - 22s 3s/step - loss: 0.2000 - accuracy: 0.9333 - val_loss: 2.2773 - val_accuracy: 0.6484\n",
            "Epoch 51/100\n",
            "8/8 [==============================] - 22s 3s/step - loss: 0.2736 - accuracy: 0.8865 - val_loss: 1.9827 - val_accuracy: 0.6602\n",
            "Epoch 52/100\n",
            "8/8 [==============================] - 22s 3s/step - loss: 0.2568 - accuracy: 0.9077 - val_loss: 2.0582 - val_accuracy: 0.6602\n",
            "Epoch 53/100\n",
            "8/8 [==============================] - 22s 3s/step - loss: 0.2314 - accuracy: 0.9032 - val_loss: 1.8799 - val_accuracy: 0.6680\n",
            "Epoch 54/100\n",
            "8/8 [==============================] - 24s 3s/step - loss: 0.2270 - accuracy: 0.9189 - val_loss: 1.3657 - val_accuracy: 0.7266\n",
            "Epoch 55/100\n",
            "8/8 [==============================] - 22s 3s/step - loss: 0.2043 - accuracy: 0.9177 - val_loss: 1.8259 - val_accuracy: 0.6758\n",
            "Epoch 56/100\n",
            "8/8 [==============================] - 22s 3s/step - loss: 0.3209 - accuracy: 0.8587 - val_loss: 1.2332 - val_accuracy: 0.7148\n",
            "Epoch 57/100\n",
            "8/8 [==============================] - 22s 3s/step - loss: 0.2128 - accuracy: 0.9088 - val_loss: 1.9973 - val_accuracy: 0.6602\n",
            "Epoch 58/100\n",
            "8/8 [==============================] - 25s 3s/step - loss: 0.1724 - accuracy: 0.9355 - val_loss: 1.6178 - val_accuracy: 0.7070\n",
            "Epoch 59/100\n",
            "8/8 [==============================] - 22s 3s/step - loss: 0.2448 - accuracy: 0.8988 - val_loss: 1.8226 - val_accuracy: 0.6680\n",
            "Epoch 60/100\n",
            "8/8 [==============================] - 22s 3s/step - loss: 0.1905 - accuracy: 0.9199 - val_loss: 1.4744 - val_accuracy: 0.7266\n",
            "Epoch 61/100\n",
            "8/8 [==============================] - 25s 3s/step - loss: 0.2513 - accuracy: 0.8932 - val_loss: 1.8874 - val_accuracy: 0.6719\n",
            "Epoch 62/100\n",
            "8/8 [==============================] - 22s 3s/step - loss: 0.2108 - accuracy: 0.9132 - val_loss: 2.0725 - val_accuracy: 0.6680\n",
            "Epoch 63/100\n",
            "8/8 [==============================] - 22s 3s/step - loss: 0.1733 - accuracy: 0.9399 - val_loss: 1.7132 - val_accuracy: 0.7031\n",
            "Epoch 64/100\n",
            "8/8 [==============================] - 22s 3s/step - loss: 0.2095 - accuracy: 0.9155 - val_loss: 2.2791 - val_accuracy: 0.6602\n",
            "Epoch 65/100\n",
            "8/8 [==============================] - 22s 3s/step - loss: 0.2766 - accuracy: 0.8932 - val_loss: 2.4056 - val_accuracy: 0.6602\n",
            "Epoch 66/100\n",
            "8/8 [==============================] - 21s 3s/step - loss: 0.1780 - accuracy: 0.9310 - val_loss: 1.2198 - val_accuracy: 0.7539\n",
            "Epoch 67/100\n",
            "8/8 [==============================] - 22s 3s/step - loss: 0.1703 - accuracy: 0.9388 - val_loss: 2.5431 - val_accuracy: 0.6562\n",
            "Epoch 68/100\n",
            "8/8 [==============================] - 21s 3s/step - loss: 0.1646 - accuracy: 0.9321 - val_loss: 3.2700 - val_accuracy: 0.6367\n",
            "Epoch 69/100\n",
            "8/8 [==============================] - 22s 3s/step - loss: 0.1644 - accuracy: 0.9422 - val_loss: 5.4306 - val_accuracy: 0.5234\n",
            "Epoch 70/100\n",
            "8/8 [==============================] - 22s 3s/step - loss: 0.2407 - accuracy: 0.9132 - val_loss: 2.3298 - val_accuracy: 0.6641\n",
            "Epoch 71/100\n",
            "8/8 [==============================] - 22s 3s/step - loss: 0.1605 - accuracy: 0.9355 - val_loss: 2.9525 - val_accuracy: 0.6367\n",
            "Epoch 72/100\n",
            "8/8 [==============================] - 21s 3s/step - loss: 0.1546 - accuracy: 0.9388 - val_loss: 2.9102 - val_accuracy: 0.6406\n",
            "Epoch 73/100\n",
            "8/8 [==============================] - 21s 3s/step - loss: 0.1990 - accuracy: 0.9088 - val_loss: 2.8768 - val_accuracy: 0.6328\n",
            "Epoch 74/100\n",
            "8/8 [==============================] - 22s 3s/step - loss: 0.1702 - accuracy: 0.9333 - val_loss: 2.5103 - val_accuracy: 0.6641\n",
            "Epoch 75/100\n",
            "8/8 [==============================] - 21s 3s/step - loss: 0.2314 - accuracy: 0.9055 - val_loss: 2.5518 - val_accuracy: 0.6602\n",
            "Epoch 76/100\n",
            "8/8 [==============================] - 22s 3s/step - loss: 0.1328 - accuracy: 0.9455 - val_loss: 2.7395 - val_accuracy: 0.6641\n",
            "Epoch 77/100\n",
            "8/8 [==============================] - 21s 3s/step - loss: 0.1438 - accuracy: 0.9455 - val_loss: 3.1865 - val_accuracy: 0.6445\n",
            "Epoch 78/100\n",
            "8/8 [==============================] - 21s 3s/step - loss: 0.1672 - accuracy: 0.9299 - val_loss: 2.8549 - val_accuracy: 0.6445\n",
            "Epoch 79/100\n",
            "8/8 [==============================] - 22s 3s/step - loss: 0.1689 - accuracy: 0.9366 - val_loss: 1.9003 - val_accuracy: 0.7070\n",
            "Epoch 80/100\n",
            "8/8 [==============================] - 21s 3s/step - loss: 0.1862 - accuracy: 0.9277 - val_loss: 1.4025 - val_accuracy: 0.7461\n",
            "Epoch 81/100\n",
            "8/8 [==============================] - 21s 3s/step - loss: 0.1726 - accuracy: 0.9244 - val_loss: 2.8672 - val_accuracy: 0.6406\n",
            "Epoch 82/100\n",
            "8/8 [==============================] - 21s 3s/step - loss: 0.1701 - accuracy: 0.9355 - val_loss: 2.8830 - val_accuracy: 0.6367\n",
            "Epoch 83/100\n",
            "8/8 [==============================] - 21s 3s/step - loss: 0.1808 - accuracy: 0.9232 - val_loss: 3.1351 - val_accuracy: 0.6328\n",
            "Epoch 84/100\n",
            "8/8 [==============================] - 21s 3s/step - loss: 0.1473 - accuracy: 0.9444 - val_loss: 3.9755 - val_accuracy: 0.5625\n",
            "Epoch 85/100\n",
            "8/8 [==============================] - 21s 3s/step - loss: 0.1716 - accuracy: 0.9333 - val_loss: 2.2804 - val_accuracy: 0.6719\n",
            "Epoch 86/100\n",
            "8/8 [==============================] - 21s 3s/step - loss: 0.1394 - accuracy: 0.9455 - val_loss: 3.9099 - val_accuracy: 0.5898\n",
            "Epoch 87/100\n",
            "8/8 [==============================] - 24s 3s/step - loss: 0.1860 - accuracy: 0.9287 - val_loss: 1.8776 - val_accuracy: 0.7148\n",
            "Epoch 88/100\n",
            "8/8 [==============================] - 21s 3s/step - loss: 0.1923 - accuracy: 0.9244 - val_loss: 1.8634 - val_accuracy: 0.6992\n",
            "Epoch 89/100\n",
            "8/8 [==============================] - 21s 3s/step - loss: 0.1382 - accuracy: 0.9477 - val_loss: 3.6313 - val_accuracy: 0.6133\n",
            "Epoch 90/100\n",
            "8/8 [==============================] - 21s 3s/step - loss: 0.1451 - accuracy: 0.9466 - val_loss: 2.0563 - val_accuracy: 0.6953\n",
            "Epoch 91/100\n",
            "8/8 [==============================] - 21s 3s/step - loss: 0.1762 - accuracy: 0.9310 - val_loss: 2.9601 - val_accuracy: 0.6367\n",
            "Epoch 92/100\n",
            "8/8 [==============================] - 21s 3s/step - loss: 0.3312 - accuracy: 0.9077 - val_loss: 3.0148 - val_accuracy: 0.6367\n",
            "Epoch 93/100\n",
            "8/8 [==============================] - 21s 3s/step - loss: 0.1176 - accuracy: 0.9511 - val_loss: 2.5691 - val_accuracy: 0.6562\n",
            "Epoch 94/100\n",
            "8/8 [==============================] - 22s 3s/step - loss: 0.1155 - accuracy: 0.9588 - val_loss: 3.2457 - val_accuracy: 0.6367\n",
            "Epoch 95/100\n",
            "8/8 [==============================] - 21s 3s/step - loss: 0.1225 - accuracy: 0.9555 - val_loss: 3.5484 - val_accuracy: 0.6328\n",
            "Epoch 96/100\n",
            "8/8 [==============================] - 21s 3s/step - loss: 0.1691 - accuracy: 0.9277 - val_loss: 4.0949 - val_accuracy: 0.5820\n",
            "Epoch 97/100\n",
            "8/8 [==============================] - 21s 3s/step - loss: 0.1676 - accuracy: 0.9321 - val_loss: 1.8963 - val_accuracy: 0.6953\n",
            "Epoch 98/100\n",
            "8/8 [==============================] - 23s 3s/step - loss: 0.1403 - accuracy: 0.9512 - val_loss: 3.9485 - val_accuracy: 0.5898\n",
            "Epoch 99/100\n",
            "8/8 [==============================] - 21s 3s/step - loss: 0.1704 - accuracy: 0.9255 - val_loss: 1.9903 - val_accuracy: 0.6875\n",
            "Epoch 100/100\n",
            "8/8 [==============================] - 21s 3s/step - loss: 0.1127 - accuracy: 0.9611 - val_loss: 3.3511 - val_accuracy: 0.6289\n"
          ],
          "name": "stdout"
        }
      ]
    },
    {
      "cell_type": "code",
      "metadata": {
        "colab_type": "code",
        "id": "7zNPRWOVJdOH",
        "colab": {
          "base_uri": "https://localhost:8080/",
          "height": 545
        },
        "outputId": "f40d4ba8-eade-4994-af67-8a8e073f1669"
      },
      "source": [
        "import matplotlib.pyplot as plt\n",
        "acc = history.history['accuracy']\n",
        "val_acc = history.history['val_accuracy']\n",
        "loss = history.history['loss']\n",
        "val_loss = history.history['val_loss']\n",
        "\n",
        "epochs = range(len(acc))\n",
        "\n",
        "plt.plot(epochs, acc, 'r', label='Training accuracy')\n",
        "plt.plot(epochs, val_acc, 'b', label='Validation accuracy')\n",
        "plt.title('Training and validation accuracy')\n",
        "\n",
        "plt.figure()\n",
        "\n",
        "plt.plot(epochs, loss, 'r', label='Training Loss')\n",
        "plt.plot(epochs, val_loss, 'b', label='Validation Loss')\n",
        "plt.title('Training and validation loss')\n",
        "plt.legend()\n",
        "\n",
        "plt.show()"
      ],
      "execution_count": 7,
      "outputs": [
        {
          "output_type": "display_data",
          "data": {
            "image/png": "[encoded data removed]",
            "text/plain": [
              "<Figure size 432x288 with 1 Axes>"
            ]
          },
          "metadata": {
            "tags": [],
            "needs_background": "light"
          }
        },
        {
          "output_type": "display_data",
          "data": {
            "image/png": "[encoded data removed]",
            "text/plain": [
              "<Figure size 432x288 with 1 Axes>"
            ]
          },
          "metadata": {
            "tags": [],
            "needs_background": "light"
          }
        }
      ]
    },
    {
      "cell_type": "code",
      "metadata": {
        "id": "kJA-7rg_fReF",
        "colab_type": "code",
        "colab": {}
      },
      "source": [
        ""
      ],
      "execution_count": null,
      "outputs": []
    }
  ]
}